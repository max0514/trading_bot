{
 "cells": [
  {
   "cell_type": "code",
   "execution_count": 3,
   "metadata": {},
   "outputs": [
    {
     "name": "stdout",
     "output_type": "stream",
     "text": [
      "Requirement already satisfied: finlab in /opt/homebrew/lib/python3.11/site-packages (0.5.10)\n",
      "Collecting finlab\n",
      "  Downloading finlab-0.5.11-cp311-cp311-macosx_10_9_universal2.whl.metadata (4.6 kB)\n",
      "Requirement already satisfied: requests in /opt/homebrew/lib/python3.11/site-packages (from finlab) (2.31.0)\n",
      "Requirement already satisfied: numpy>=1.21.6 in /Users/max/Library/Python/3.11/lib/python/site-packages (from finlab) (1.24.2)\n",
      "Requirement already satisfied: pandas>=1.5.3 in /Users/max/Library/Python/3.11/lib/python/site-packages (from finlab) (2.0.0)\n",
      "Requirement already satisfied: pyarrow>=2.0.0 in /opt/homebrew/lib/python3.11/site-packages (from finlab) (13.0.0)\n",
      "Requirement already satisfied: lz4 in /opt/homebrew/lib/python3.11/site-packages (from finlab) (4.3.2)\n",
      "Requirement already satisfied: Cython in /opt/homebrew/lib/python3.11/site-packages (from finlab) (3.0.4)\n",
      "Requirement already satisfied: tqdm in /opt/homebrew/lib/python3.11/site-packages (from finlab) (4.66.1)\n",
      "Requirement already satisfied: jinja2 in /Users/max/Library/Python/3.11/lib/python/site-packages (from finlab) (3.1.2)\n",
      "Requirement already satisfied: python-dateutil>=2.8.2 in /Users/max/Library/Python/3.11/lib/python/site-packages (from pandas>=1.5.3->finlab) (2.8.2)\n",
      "Requirement already satisfied: pytz>=2020.1 in /Users/max/Library/Python/3.11/lib/python/site-packages (from pandas>=1.5.3->finlab) (2023.3)\n",
      "Requirement already satisfied: tzdata>=2022.1 in /Users/max/Library/Python/3.11/lib/python/site-packages (from pandas>=1.5.3->finlab) (2023.3)\n",
      "Requirement already satisfied: MarkupSafe>=2.0 in /Users/max/Library/Python/3.11/lib/python/site-packages (from jinja2->finlab) (2.1.2)\n",
      "Requirement already satisfied: charset-normalizer<4,>=2 in /Users/max/Library/Python/3.11/lib/python/site-packages (from requests->finlab) (3.1.0)\n",
      "Requirement already satisfied: idna<4,>=2.5 in /Users/max/Library/Python/3.11/lib/python/site-packages (from requests->finlab) (3.4)\n",
      "Requirement already satisfied: urllib3<3,>=1.21.1 in /opt/homebrew/lib/python3.11/site-packages (from requests->finlab) (2.1.0)\n",
      "Requirement already satisfied: certifi>=2017.4.17 in /Users/max/Library/Python/3.11/lib/python/site-packages (from requests->finlab) (2022.12.7)\n",
      "Requirement already satisfied: six>=1.5 in /Users/max/Library/Python/3.11/lib/python/site-packages (from python-dateutil>=2.8.2->pandas>=1.5.3->finlab) (1.16.0)\n",
      "Downloading finlab-0.5.11-cp311-cp311-macosx_10_9_universal2.whl (986 kB)\n",
      "\u001b[2K   \u001b[90m━━━━━━━━━━━━━━━━━━━━━━━━━━━━━━━━━━━━━━━\u001b[0m \u001b[32m986.5/986.5 kB\u001b[0m \u001b[31m571.0 kB/s\u001b[0m eta \u001b[36m0:00:00\u001b[0ma \u001b[36m0:00:01\u001b[0m\n",
      "\u001b[?25hInstalling collected packages: finlab\n",
      "  Attempting uninstall: finlab\n",
      "    Found existing installation: finlab 0.5.10\n",
      "    Uninstalling finlab-0.5.10:\n",
      "      Successfully uninstalled finlab-0.5.10\n",
      "Successfully installed finlab-0.5.11\n"
     ]
    }
   ],
   "source": [
    "!pip3 install --upgrade finlab"
   ]
  },
  {
   "cell_type": "code",
   "execution_count": 4,
   "metadata": {},
   "outputs": [
    {
     "name": "stdout",
     "output_type": "stream",
     "text": [
      "輸入成功!\n"
     ]
    }
   ],
   "source": [
    "import finlab\n",
    "from finlab import data\n",
    "import pandas as pd\n",
    "import datetime as dt\n",
    "import numpy as np\n",
    "import math\n",
    "from dotenv import load_dotenv\n",
    "import os\n",
    "import time\n",
    "def config():\n",
    "    load_dotenv()\n",
    "\n",
    "\n",
    "    \n",
    "config()\n",
    "\n",
    "finlab.login(str(os.getenv('FINLAB_API')))"
   ]
  },
  {
   "cell_type": "code",
   "execution_count": 5,
   "metadata": {},
   "outputs": [
    {
     "ename": "Exception",
     "evalue": "**Error: price:close not exists",
     "output_type": "error",
     "traceback": [
      "\u001b[0;31m---------------------------------------------------------------------------\u001b[0m",
      "\u001b[0;31mException\u001b[0m                                 Traceback (most recent call last)",
      "\u001b[1;32m/Users/max/Desktop/python_codes/trading_bot/all_time_high.ipynb Cell 3\u001b[0m line \u001b[0;36m1\n\u001b[0;32m----> <a href='vscode-notebook-cell:/Users/max/Desktop/python_codes/trading_bot/all_time_high.ipynb#W1sZmlsZQ%3D%3D?line=0'>1</a>\u001b[0m price_df \u001b[39m=\u001b[39m data\u001b[39m.\u001b[39;49mget(\u001b[39m'\u001b[39;49m\u001b[39mprice:close\u001b[39;49m\u001b[39m'\u001b[39;49m)\n",
      "File \u001b[0;32m/opt/homebrew/lib/python3.11/site-packages/finlab/data.py:878\u001b[0m, in \u001b[0;36mget\u001b[0;34m(dataset, save_to_storage, force_download)\u001b[0m\n\u001b[1;32m    875\u001b[0m url_data \u001b[39m=\u001b[39m fetch_data(dataset)\n\u001b[1;32m    877\u001b[0m \u001b[39mif\u001b[39;00m url_data \u001b[39mis\u001b[39;00m \u001b[39mNone\u001b[39;00m:\n\u001b[0;32m--> 878\u001b[0m     \u001b[39mraise\u001b[39;00m \u001b[39mException\u001b[39;00m(\u001b[39mf\u001b[39m\u001b[39m\"\u001b[39m\u001b[39m**Error: \u001b[39m\u001b[39m{\u001b[39;00mdataset\u001b[39m}\u001b[39;00m\u001b[39m not exists\u001b[39m\u001b[39m\"\u001b[39m)\n\u001b[1;32m    880\u001b[0m df \u001b[39m=\u001b[39m url_data[\u001b[39m'\u001b[39m\u001b[39mdata\u001b[39m\u001b[39m'\u001b[39m]\n\u001b[1;32m    882\u001b[0m \u001b[39m# fallback to cache storage if user is free user\u001b[39;00m\n",
      "\u001b[0;31mException\u001b[0m: **Error: price:close not exists"
     ]
    }
   ],
   "source": [
    "price_df = data.get('"
   ]
  },
  {
   "cell_type": "code",
   "execution_count": null,
   "metadata": {},
   "outputs": [],
   "source": []
  },
  {
   "cell_type": "code",
   "execution_count": null,
   "metadata": {},
   "outputs": [],
   "source": []
  }
 ],
 "metadata": {
  "kernelspec": {
   "display_name": "Python 3",
   "language": "python",
   "name": "python3"
  },
  "language_info": {
   "codemirror_mode": {
    "name": "ipython",
    "version": 3
   },
   "file_extension": ".py",
   "mimetype": "text/x-python",
   "name": "python",
   "nbconvert_exporter": "python",
   "pygments_lexer": "ipython3",
   "version": "3.11.5"
  }
 },
 "nbformat": 4,
 "nbformat_minor": 2
}
