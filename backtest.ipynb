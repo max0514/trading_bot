{
 "cells": [
  {
   "cell_type": "code",
   "execution_count": null,
   "metadata": {},
   "outputs": [],
   "source": [
    "import pandas as pd\n",
    "import matplotlib.pyplot as plt\n",
    "from mongo import Mongo"
   ]
  },
  {
   "cell_type": "code",
   "execution_count": 1,
   "metadata": {},
   "outputs": [
    {
     "ename": "NameError",
     "evalue": "name 'Mongo' is not defined",
     "output_type": "error",
     "traceback": [
      "\u001b[0;31m---------------------------------------------------------------------------\u001b[0m",
      "\u001b[0;31mNameError\u001b[0m                                 Traceback (most recent call last)",
      "Cell \u001b[0;32mIn[1], line 1\u001b[0m\n\u001b[0;32m----> 1\u001b[0m price_repo \u001b[39m=\u001b[39m Mongo(db\u001b[39m=\u001b[39m\u001b[39m'\u001b[39m\u001b[39mtrading_bot\u001b[39m\u001b[39m'\u001b[39m, collection\u001b[39m=\u001b[39m\u001b[39m'\u001b[39m\u001b[39mstock_price\u001b[39m\u001b[39m'\u001b[39m)\n\u001b[1;32m      2\u001b[0m debt_repo \u001b[39m=\u001b[39m Mongo(\u001b[39m'\u001b[39m\u001b[39mtrading_bot\u001b[39m\u001b[39m'\u001b[39m, \u001b[39m'\u001b[39m\u001b[39mcompany_debt\u001b[39m\u001b[39m'\u001b[39m)\n\u001b[1;32m      3\u001b[0m month_revenue_repo \u001b[39m=\u001b[39m Mongo(db\u001b[39m=\u001b[39m\u001b[39m'\u001b[39m\u001b[39mtrading_bot\u001b[39m\u001b[39m'\u001b[39m, collection\u001b[39m=\u001b[39m\u001b[39m'\u001b[39m\u001b[39mmonth_revenue\u001b[39m\u001b[39m'\u001b[39m)\n",
      "\u001b[0;31mNameError\u001b[0m: name 'Mongo' is not defined"
     ]
    }
   ],
   "source": [
    "price_repo = Mongo(db='trading_bot', collection='stock_price')\n",
    "debt_repo = Mongo('trading_bot', 'company_debt')\n",
    "month_revenue_repo = Mongo(db='trading_bot', collection='month_revenue')\n",
    "price_data = price_repo.get_data_by_stock_id('1101')"
   ]
  },
  {
   "cell_type": "code",
   "execution_count": null,
   "metadata": {},
   "outputs": [],
   "source": []
  },
  {
   "cell_type": "code",
   "execution_count": null,
   "metadata": {},
   "outputs": [],
   "source": [
    "\n",
    "def backtest_strategy(data, signal):\n",
    "    # Generate trading orders\n",
    "    data['Position'] = signal(data)\n",
    "\n",
    "    # Compute returns\n",
    "    data['Market Returns'] = data['Close'].pct_change()\n",
    "    data['Strategy Returns'] = data['Market Returns'] * data['Position'].shift()\n",
    "\n",
    "    # Calculate cumulative returns\n",
    "    data['Market Cumulative Returns'] = (1 + data['Market Returns']).cumprod()\n",
    "    data['Strategy Cumulative Returns'] = (1 + data['Strategy Returns']).cumprod()\n",
    "\n",
    "    # Plotting the graph of strategy vs market returns\n",
    "    data[['Market Cumulative Returns', 'Strategy Cumulative Returns']].plot(grid=True, kind='line')\n",
    "    plt.title('Strategy Backtesting')\n",
    "    plt.show()"
   ]
  },
  {
   "cell_type": "code",
   "execution_count": null,
   "metadata": {},
   "outputs": [],
   "source": []
  }
 ],
 "metadata": {
  "kernelspec": {
   "display_name": "Python 3",
   "language": "python",
   "name": "python3"
  },
  "language_info": {
   "codemirror_mode": {
    "name": "ipython",
    "version": 3
   },
   "file_extension": ".py",
   "mimetype": "text/x-python",
   "name": "python",
   "nbconvert_exporter": "python",
   "pygments_lexer": "ipython3",
   "version": "3.11.2"
  },
  "orig_nbformat": 4
 },
 "nbformat": 4,
 "nbformat_minor": 2
}
