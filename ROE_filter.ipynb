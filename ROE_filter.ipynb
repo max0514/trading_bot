{
 "cells": [
  {
   "cell_type": "code",
   "execution_count": 39,
   "metadata": {},
   "outputs": [
    {
     "name": "stdout",
     "output_type": "stream",
     "text": [
      "輸入成功!\n"
     ]
    }
   ],
   "source": [
    "from finlab import data\n",
    "import finlab\n",
    "from dotenv import load_dotenv\n",
    "import os\n",
    "import datetime\n",
    "\n",
    "def config():\n",
    "    load_dotenv()\n",
    "\n",
    "\n",
    "    \n",
    "config()\n",
    "\n",
    "finlab.login(str(os.getenv('FINLAB_API')))"
   ]
  },
  {
   "cell_type": "code",
   "execution_count": 40,
   "metadata": {},
   "outputs": [],
   "source": [
    "roe = data.get('fundamental_features:ROE稅後')\n",
    "price_df = data.get('etl:adj_open')"
   ]
  },
  {
   "cell_type": "code",
   "execution_count": 41,
   "metadata": {},
   "outputs": [],
   "source": [
    "cleaned_roe = roe.dropna(axis=1)\n"
   ]
  },
  {
   "cell_type": "code",
   "execution_count": 33,
   "metadata": {},
   "outputs": [
    {
     "ename": "KeyError",
     "evalue": "\"None of [Index([('0050', '0055', '0056', '0061', '006205', '006206', '006207', '1102', '1104', '1108', '1201', '1210', '1215', '1217', '1218', '1220', '1227', '1231', '1232', '1256', '1301', '1303', '1304', '1305', '1307', '1308', '1309', '1312', '1313', '1314', '1319', '1321', '1323', '1326', '1337', '1338', '1339', '1402', '1409', '1414', '1434', '1437', '1440', '1442', '1444', '1445', '1446', '1447', '1452', '1455', '1459', '1460', '1463', '1464', '1467', '1468', '1473', '1474', '1476', '1477', '1503', '1504', '1506', '1507', '1514', '1515', '1517', '1519', '1521', '1522', '1525', '1528', '1531', '1532', '1533', '1536', '1537', '1539', '1540', '1558', '1560', '1565', '1569', '1580', '1589', '1590', '1597', '1605', '1608', '1609', '1612', '1616', '1618', '1701', '1702', '1707', '1708', '1710', '1711', '1712', ...)], dtype='object', name='symbol')] are in the [columns]\"",
     "output_type": "error",
     "traceback": [
      "\u001b[0;31m---------------------------------------------------------------------------\u001b[0m",
      "\u001b[0;31mKeyError\u001b[0m                                  Traceback (most recent call last)",
      "\u001b[1;32m/Users/max/Desktop/python_codes/trading_bot/ROE_filter.ipynb Cell 4\u001b[0m line \u001b[0;36m1\n\u001b[0;32m----> <a href='vscode-notebook-cell:/Users/max/Desktop/python_codes/trading_bot/ROE_filter.ipynb#X34sZmlsZQ%3D%3D?line=0'>1</a>\u001b[0m cleaned_roe[[filled_price_df\u001b[39m.\u001b[39;49mdropna(axis\u001b[39m=\u001b[39;49m\u001b[39m1\u001b[39;49m)\u001b[39m.\u001b[39;49mcolumns]]\n",
      "File \u001b[0;32m/opt/homebrew/lib/python3.11/site-packages/finlab/dataframe.py:48\u001b[0m, in \u001b[0;36mreshape_operations.<locals>.wrapped_method\u001b[0;34m(self, other, pandas_method)\u001b[0m\n\u001b[1;32m     45\u001b[0m \u001b[39mdef\u001b[39;00m \u001b[39mwrapped_method\u001b[39m(\u001b[39mself\u001b[39m, other, pandas_method\u001b[39m=\u001b[39mpandas_method):\n\u001b[1;32m     47\u001b[0m     df1, df2 \u001b[39m=\u001b[39m \u001b[39mself\u001b[39m\u001b[39m.\u001b[39mreshape(\u001b[39mself\u001b[39m, other)\n\u001b[0;32m---> 48\u001b[0m     result \u001b[39m=\u001b[39m pandas_method(df1, df2)\n\u001b[1;32m     49\u001b[0m     \u001b[39mif\u001b[39;00m \u001b[39m'\u001b[39m\u001b[39mi\u001b[39m\u001b[39m'\u001b[39m \u001b[39min\u001b[39;00m op:  \u001b[39m# in-place operation\u001b[39;00m\n\u001b[1;32m     50\u001b[0m         \u001b[39mself\u001b[39m\u001b[39m.\u001b[39m_update_inplace(result)\n",
      "File \u001b[0;32m~/Library/Python/3.11/lib/python/site-packages/pandas/core/frame.py:3766\u001b[0m, in \u001b[0;36mDataFrame.__getitem__\u001b[0;34m(self, key)\u001b[0m\n\u001b[1;32m   3764\u001b[0m     \u001b[39mif\u001b[39;00m is_iterator(key):\n\u001b[1;32m   3765\u001b[0m         key \u001b[39m=\u001b[39m \u001b[39mlist\u001b[39m(key)\n\u001b[0;32m-> 3766\u001b[0m     indexer \u001b[39m=\u001b[39m \u001b[39mself\u001b[39;49m\u001b[39m.\u001b[39;49mcolumns\u001b[39m.\u001b[39;49m_get_indexer_strict(key, \u001b[39m\"\u001b[39;49m\u001b[39mcolumns\u001b[39;49m\u001b[39m\"\u001b[39;49m)[\u001b[39m1\u001b[39m]\n\u001b[1;32m   3768\u001b[0m \u001b[39m# take() does not accept boolean indexers\u001b[39;00m\n\u001b[1;32m   3769\u001b[0m \u001b[39mif\u001b[39;00m \u001b[39mgetattr\u001b[39m(indexer, \u001b[39m\"\u001b[39m\u001b[39mdtype\u001b[39m\u001b[39m\"\u001b[39m, \u001b[39mNone\u001b[39;00m) \u001b[39m==\u001b[39m \u001b[39mbool\u001b[39m:\n",
      "File \u001b[0;32m~/Library/Python/3.11/lib/python/site-packages/pandas/core/indexes/base.py:5876\u001b[0m, in \u001b[0;36mIndex._get_indexer_strict\u001b[0;34m(self, key, axis_name)\u001b[0m\n\u001b[1;32m   5873\u001b[0m \u001b[39melse\u001b[39;00m:\n\u001b[1;32m   5874\u001b[0m     keyarr, indexer, new_indexer \u001b[39m=\u001b[39m \u001b[39mself\u001b[39m\u001b[39m.\u001b[39m_reindex_non_unique(keyarr)\n\u001b[0;32m-> 5876\u001b[0m \u001b[39mself\u001b[39;49m\u001b[39m.\u001b[39;49m_raise_if_missing(keyarr, indexer, axis_name)\n\u001b[1;32m   5878\u001b[0m keyarr \u001b[39m=\u001b[39m \u001b[39mself\u001b[39m\u001b[39m.\u001b[39mtake(indexer)\n\u001b[1;32m   5879\u001b[0m \u001b[39mif\u001b[39;00m \u001b[39misinstance\u001b[39m(key, Index):\n\u001b[1;32m   5880\u001b[0m     \u001b[39m# GH 42790 - Preserve name from an Index\u001b[39;00m\n",
      "File \u001b[0;32m~/Library/Python/3.11/lib/python/site-packages/pandas/core/indexes/base.py:5935\u001b[0m, in \u001b[0;36mIndex._raise_if_missing\u001b[0;34m(self, key, indexer, axis_name)\u001b[0m\n\u001b[1;32m   5933\u001b[0m     \u001b[39mif\u001b[39;00m use_interval_msg:\n\u001b[1;32m   5934\u001b[0m         key \u001b[39m=\u001b[39m \u001b[39mlist\u001b[39m(key)\n\u001b[0;32m-> 5935\u001b[0m     \u001b[39mraise\u001b[39;00m \u001b[39mKeyError\u001b[39;00m(\u001b[39mf\u001b[39m\u001b[39m\"\u001b[39m\u001b[39mNone of [\u001b[39m\u001b[39m{\u001b[39;00mkey\u001b[39m}\u001b[39;00m\u001b[39m] are in the [\u001b[39m\u001b[39m{\u001b[39;00maxis_name\u001b[39m}\u001b[39;00m\u001b[39m]\u001b[39m\u001b[39m\"\u001b[39m)\n\u001b[1;32m   5937\u001b[0m not_found \u001b[39m=\u001b[39m \u001b[39mlist\u001b[39m(ensure_index(key)[missing_mask\u001b[39m.\u001b[39mnonzero()[\u001b[39m0\u001b[39m]]\u001b[39m.\u001b[39munique())\n\u001b[1;32m   5938\u001b[0m \u001b[39mraise\u001b[39;00m \u001b[39mKeyError\u001b[39;00m(\u001b[39mf\u001b[39m\u001b[39m\"\u001b[39m\u001b[39m{\u001b[39;00mnot_found\u001b[39m}\u001b[39;00m\u001b[39m not in index\u001b[39m\u001b[39m\"\u001b[39m)\n",
      "\u001b[0;31mKeyError\u001b[0m: \"None of [Index([('0050', '0055', '0056', '0061', '006205', '006206', '006207', '1102', '1104', '1108', '1201', '1210', '1215', '1217', '1218', '1220', '1227', '1231', '1232', '1256', '1301', '1303', '1304', '1305', '1307', '1308', '1309', '1312', '1313', '1314', '1319', '1321', '1323', '1326', '1337', '1338', '1339', '1402', '1409', '1414', '1434', '1437', '1440', '1442', '1444', '1445', '1446', '1447', '1452', '1455', '1459', '1460', '1463', '1464', '1467', '1468', '1473', '1474', '1476', '1477', '1503', '1504', '1506', '1507', '1514', '1515', '1517', '1519', '1521', '1522', '1525', '1528', '1531', '1532', '1533', '1536', '1537', '1539', '1540', '1558', '1560', '1565', '1569', '1580', '1589', '1590', '1597', '1605', '1608', '1609', '1612', '1616', '1618', '1701', '1702', '1707', '1708', '1710', '1711', '1712', ...)], dtype='object', name='symbol')] are in the [columns]\""
     ]
    }
   ],
   "source": [
    "cleaned_roe[[filled_price_df.dropna(axis=1).columns]]"
   ]
  },
  {
   "cell_type": "code",
   "execution_count": 13,
   "metadata": {},
   "outputs": [
    {
     "data": {
      "text/plain": [
       "['2013-Q1',\n",
       " '2013-Q2',\n",
       " '2013-Q3',\n",
       " '2013-Q4',\n",
       " '2014-Q1',\n",
       " '2014-Q2',\n",
       " '2014-Q3',\n",
       " '2014-Q4',\n",
       " '2015-Q1',\n",
       " '2015-Q2',\n",
       " '2015-Q3',\n",
       " '2015-Q4',\n",
       " '2016-Q1',\n",
       " '2016-Q2',\n",
       " '2016-Q3',\n",
       " '2016-Q4',\n",
       " '2017-Q1',\n",
       " '2017-Q2',\n",
       " '2017-Q3',\n",
       " '2017-Q4',\n",
       " '2018-Q1',\n",
       " '2018-Q2',\n",
       " '2018-Q3',\n",
       " '2018-Q4',\n",
       " '2019-Q1',\n",
       " '2019-Q2',\n",
       " '2019-Q3',\n",
       " '2019-Q4',\n",
       " '2020-Q1',\n",
       " '2020-Q2',\n",
       " '2020-Q3']"
      ]
     },
     "execution_count": 13,
     "metadata": {},
     "output_type": "execute_result"
    }
   ],
   "source": [
    "cleaned_roe.index.to_list()"
   ]
  },
  {
   "cell_type": "code",
   "execution_count": null,
   "metadata": {},
   "outputs": [],
   "source": []
  },
  {
   "cell_type": "code",
   "execution_count": 15,
   "metadata": {},
   "outputs": [
    {
     "name": "stdout",
     "output_type": "stream",
     "text": [
      "2013-Q1\n",
      "2013-Q2\n",
      "2013-Q3\n",
      "2013-Q4\n",
      "2014-Q1\n",
      "2014-Q2\n",
      "2014-Q3\n",
      "2014-Q4\n",
      "2015-Q1\n",
      "2015-Q2\n",
      "2015-Q3\n",
      "2015-Q4\n",
      "2016-Q1\n",
      "2016-Q2\n",
      "2016-Q3\n",
      "2016-Q4\n",
      "2017-Q1\n",
      "2017-Q2\n",
      "2017-Q3\n",
      "2017-Q4\n",
      "2018-Q1\n",
      "2018-Q2\n",
      "2018-Q3\n",
      "2018-Q4\n",
      "2019-Q1\n",
      "2019-Q2\n",
      "2019-Q3\n",
      "2019-Q4\n",
      "2020-Q1\n",
      "2020-Q2\n",
      "2020-Q3\n"
     ]
    }
   ],
   "source": [
    "import pandas as pd\n",
    "\n",
    "def buy_top_5_roe(df):\n",
    "    \"\"\"\n",
    "    Given a DataFrame of ROE values for each quarter, select the top 5 symbols by ROE for each quarter.\n",
    "    \n",
    "    Parameters:\n",
    "        df (DataFrame): The DataFrame containing ROE values, indexed by date and with stock symbols as columns.\n",
    "        \n",
    "    Returns:\n",
    "        top_5_dict (dict): A dictionary with quarters as keys and lists of top 5 stock symbols as values.\n",
    "    \"\"\"\n",
    "    # Initialize an empty dictionary to store the top 5 stocks for each quarter\n",
    "    top_5_dict = {}\n",
    "    \n",
    "    # Loop through each quarter in the DataFrame index\n",
    "    for quarter in df.index.to_list():\n",
    "        # Select the data for that quarter\n",
    "        quarter_data = df.loc[quarter]\n",
    "        \n",
    "        # Sort the data in descending order to get stocks with highest ROE first\n",
    "        sorted_data = quarter_data.sort_values(ascending=False)\n",
    "        \n",
    "        # Select the top 5 stock symbols\n",
    "        top_5_stocks = sorted_data.head(5).index.tolist()\n",
    "        \n",
    "        # Store the top 5 stocks in the dictionary\n",
    "        top_5_dict[quarter] = top_5_stocks\n",
    "    \n",
    "    return top_5_dict\n",
    "\n",
    "\n",
    "a = buy_top_5_roe(cleaned_roe).keys()\n",
    "for i in a:\n",
    "    print(i)"
   ]
  },
  {
   "cell_type": "code",
   "execution_count": null,
   "metadata": {},
   "outputs": [],
   "source": []
  },
  {
   "cell_type": "code",
   "execution_count": 11,
   "metadata": {},
   "outputs": [
    {
     "data": {
      "text/plain": [
       "DatetimeIndex(['2013-01-02', '2013-01-03', '2013-01-04', '2013-01-07',\n",
       "               '2013-01-08', '2013-01-09', '2013-01-10', '2013-01-11',\n",
       "               '2013-01-14', '2013-01-15',\n",
       "               ...\n",
       "               '2020-12-18', '2020-12-21', '2020-12-22', '2020-12-23',\n",
       "               '2020-12-24', '2020-12-25', '2020-12-28', '2020-12-29',\n",
       "               '2020-12-30', '2020-12-31'],\n",
       "              dtype='datetime64[ns]', name='date', length=1962, freq=None)"
      ]
     },
     "execution_count": 11,
     "metadata": {},
     "output_type": "execute_result"
    }
   ],
   "source": [
    "price_df.index"
   ]
  },
  {
   "cell_type": "code",
   "execution_count": 13,
   "metadata": {},
   "outputs": [
    {
     "data": {
      "text/plain": [
       "97.6"
      ]
     },
     "execution_count": 13,
     "metadata": {},
     "output_type": "execute_result"
    }
   ],
   "source": [
    "price_df.at[pd.to_datetime('2013-01-02'), '2330']\n",
    "#df.at[index, stock_id]\n"
   ]
  },
  {
   "cell_type": "code",
   "execution_count": 51,
   "metadata": {},
   "outputs": [
    {
     "name": "stdout",
     "output_type": "stream",
     "text": [
      "False\n"
     ]
    }
   ],
   "source": []
  },
  {
   "cell_type": "code",
   "execution_count": 46,
   "metadata": {},
   "outputs": [
    {
     "name": "stdout",
     "output_type": "stream",
     "text": [
      "2013-04-01\n",
      "2013-04-01\n",
      "2013-04-01\n",
      "2013-04-01\n",
      "2013-04-01\n",
      "2013-07-01\n",
      "2013-07-01\n",
      "2013-07-01\n",
      "2013-07-01\n",
      "2013-07-01\n",
      "2013-09-30\n",
      "2013-09-30\n",
      "2013-09-30\n",
      "2013-09-30\n",
      "2013-09-30\n",
      "2013-12-31\n",
      "2013-12-31\n",
      "2013-12-31\n",
      "2013-12-31\n",
      "2013-12-31\n",
      "2014-03-31\n",
      "2014-03-31\n",
      "2014-03-31\n",
      "2014-03-31\n",
      "2014-03-31\n",
      "2014-06-30\n",
      "2014-06-30\n",
      "2014-06-30\n",
      "2014-06-30\n",
      "2014-06-30\n",
      "2014-09-30\n",
      "2014-09-30\n",
      "2014-09-30\n",
      "2014-09-30\n",
      "2014-09-30\n",
      "2014-12-31\n",
      "2014-12-31\n",
      "2014-12-31\n",
      "2014-12-31\n",
      "2014-12-31\n",
      "2015-03-31\n",
      "2015-03-31\n",
      "2015-03-31\n",
      "2015-03-31\n",
      "2015-03-31\n",
      "2015-06-30\n",
      "2015-06-30\n",
      "2015-06-30\n",
      "2015-06-30\n",
      "2015-06-30\n",
      "2015-09-30\n",
      "2015-09-30\n",
      "2015-09-30\n",
      "2015-09-30\n",
      "2015-09-30\n",
      "2015-12-31\n",
      "2015-12-31\n",
      "2015-12-31\n",
      "2015-12-31\n",
      "2015-12-31\n",
      "2016-03-31\n",
      "2016-03-31\n",
      "2016-03-31\n",
      "2016-03-31\n",
      "2016-03-31\n",
      "2016-06-30\n",
      "2016-06-30\n",
      "2016-06-30\n",
      "2016-06-30\n",
      "2016-06-30\n",
      "2016-09-30\n",
      "Unexpected exception formatting exception. Falling back to standard exception\n"
     ]
    },
    {
     "name": "stderr",
     "output_type": "stream",
     "text": [
      "Traceback (most recent call last):\n",
      "  File \"pandas/_libs/index.pyx\", line 581, in pandas._libs.index.DatetimeEngine.get_loc\n",
      "  File \"pandas/_libs/hashtable_class_helper.pxi\", line 2606, in pandas._libs.hashtable.Int64HashTable.get_item\n",
      "  File \"pandas/_libs/hashtable_class_helper.pxi\", line 2630, in pandas._libs.hashtable.Int64HashTable.get_item\n",
      "KeyError: 1483315200000000000\n",
      "\n",
      "During handling of the above exception, another exception occurred:\n",
      "\n",
      "Traceback (most recent call last):\n",
      "  File \"/Users/max/Library/Python/3.11/lib/python/site-packages/pandas/core/indexes/base.py\", line 3652, in get_loc\n",
      "    return self._engine.get_loc(casted_key)\n",
      "           ^^^^^^^^^^^^^^^^^^^^^^^^^^^^^^^^\n",
      "  File \"pandas/_libs/index.pyx\", line 549, in pandas._libs.index.DatetimeEngine.get_loc\n",
      "  File \"pandas/_libs/index.pyx\", line 583, in pandas._libs.index.DatetimeEngine.get_loc\n",
      "KeyError: Timestamp('2017-01-02 00:00:00')\n",
      "\n",
      "The above exception was the direct cause of the following exception:\n",
      "\n",
      "Traceback (most recent call last):\n",
      "  File \"/Users/max/Library/Python/3.11/lib/python/site-packages/pandas/core/indexes/datetimes.py\", line 584, in get_loc\n",
      "    return Index.get_loc(self, key)\n",
      "           ^^^^^^^^^^^^^^^^^^^^^^^^\n",
      "  File \"/Users/max/Library/Python/3.11/lib/python/site-packages/pandas/core/indexes/base.py\", line 3654, in get_loc\n",
      "    raise KeyError(key) from err\n",
      "KeyError: Timestamp('2017-01-02 00:00:00')\n",
      "\n",
      "The above exception was the direct cause of the following exception:\n",
      "\n",
      "Traceback (most recent call last):\n",
      "  File \"/Users/max/Library/Python/3.11/lib/python/site-packages/IPython/core/interactiveshell.py\", line 3460, in run_code\n",
      "    exec(code_obj, self.user_global_ns, self.user_ns)\n",
      "  File \"/var/folders/_c/ckm1ssmj50bbbdf8wksvbk_40000gr/T/ipykernel_66783/3642002206.py\", line 104, in <module>\n",
      "    result = calculate_profit(price_data=price_df, roe_data=cleaned_roe)\n",
      "             ^^^^^^^^^^^^^^^^^^^^^^^^^^^^^^^^^^^^^^^^^^^^^^^^^^^^^^^^^^^\n",
      "  File \"/var/folders/_c/ckm1ssmj50bbbdf8wksvbk_40000gr/T/ipykernel_66783/3642002206.py\", line 90, in calculate_profit\n",
      "    end_price = price_data.at[end_date, stock]\n",
      "                ~~~~~~~~~~~~~^^^^^^^^^^^^^^^^^\n",
      "  File \"/Users/max/Library/Python/3.11/lib/python/site-packages/pandas/core/indexing.py\", line 2412, in __getitem__\n",
      "    return super().__getitem__(key)\n",
      "           ^^^^^^^^^^^^^^^^^^^^^^^^\n",
      "  File \"/Users/max/Library/Python/3.11/lib/python/site-packages/pandas/core/indexing.py\", line 2364, in __getitem__\n",
      "    return self.obj._get_value(*key, takeable=self._takeable)\n",
      "           ^^^^^^^^^^^^^^^^^^^^^^^^^^^^^^^^^^^^^^^^^^^^^^^^^^\n",
      "  File \"/Users/max/Library/Python/3.11/lib/python/site-packages/pandas/core/frame.py\", line 3886, in _get_value\n",
      "    row = self.index.get_loc(index)\n",
      "          ^^^^^^^^^^^^^^^^^^^^^^^^^\n",
      "  File \"/Users/max/Library/Python/3.11/lib/python/site-packages/pandas/core/indexes/datetimes.py\", line 586, in get_loc\n",
      "    raise KeyError(orig_key) from err\n",
      "KeyError: '2017-01-02'\n",
      "\n",
      "During handling of the above exception, another exception occurred:\n",
      "\n",
      "Traceback (most recent call last):\n",
      "  File \"/Users/max/Library/Python/3.11/lib/python/site-packages/IPython/core/interactiveshell.py\", line 2057, in showtraceback\n",
      "    stb = self.InteractiveTB.structured_traceback(\n",
      "          ^^^^^^^^^^^^^^^^^^^^^^^^^^^^^^^^^^^^^^^^\n",
      "  File \"/Users/max/Library/Python/3.11/lib/python/site-packages/IPython/core/ultratb.py\", line 1288, in structured_traceback\n",
      "    return FormattedTB.structured_traceback(\n",
      "           ^^^^^^^^^^^^^^^^^^^^^^^^^^^^^^^^^\n",
      "  File \"/Users/max/Library/Python/3.11/lib/python/site-packages/IPython/core/ultratb.py\", line 1177, in structured_traceback\n",
      "    return VerboseTB.structured_traceback(\n",
      "           ^^^^^^^^^^^^^^^^^^^^^^^^^^^^^^^\n",
      "  File \"/Users/max/Library/Python/3.11/lib/python/site-packages/IPython/core/ultratb.py\", line 1049, in structured_traceback\n",
      "    formatted_exceptions += self.format_exception_as_a_whole(etype, evalue, etb, lines_of_context,\n",
      "                            ^^^^^^^^^^^^^^^^^^^^^^^^^^^^^^^^^^^^^^^^^^^^^^^^^^^^^^^^^^^^^^^^^^^^^^\n",
      "  File \"/Users/max/Library/Python/3.11/lib/python/site-packages/IPython/core/ultratb.py\", line 935, in format_exception_as_a_whole\n",
      "    self.get_records(etb, number_of_lines_of_context, tb_offset) if etb else []\n",
      "    ^^^^^^^^^^^^^^^^^^^^^^^^^^^^^^^^^^^^^^^^^^^^^^^^^^^^^^^^^^^^\n",
      "  File \"/Users/max/Library/Python/3.11/lib/python/site-packages/IPython/core/ultratb.py\", line 1003, in get_records\n",
      "    lines, first = inspect.getsourcelines(etb.tb_frame)\n",
      "                   ^^^^^^^^^^^^^^^^^^^^^^^^^^^^^^^^^^^^\n",
      "  File \"/opt/homebrew/Cellar/python@3.11/3.11.5/Frameworks/Python.framework/Versions/3.11/lib/python3.11/inspect.py\", line 1244, in getsourcelines\n",
      "    lines, lnum = findsource(object)\n",
      "                  ^^^^^^^^^^^^^^^^^^\n",
      "  File \"/opt/homebrew/Cellar/python@3.11/3.11.5/Frameworks/Python.framework/Versions/3.11/lib/python3.11/inspect.py\", line 1081, in findsource\n",
      "    raise OSError('could not get source code')\n",
      "OSError: could not get source code\n"
     ]
    }
   ],
   "source": [
    "# import pandas as pd\n",
    "\n",
    "# #sometimes the date of the revealation of statements is weekend\n",
    "# def get_work_day(y, m, d):\n",
    "#         newInfo_day = datetime.datetime(y, m, d)\n",
    "#         if newInfo_day.weekday() == 5:  # Saturday\n",
    "#             newInfo_day += datetime.timedelta(days=2)\n",
    "#         elif newInfo_day.weekday() == 6:  # Sunday\n",
    "#             newInfo_day += datetime.timedelta(days=1)\n",
    "#         return newInfo_day.strftime('%Y-%m-%d')\n",
    "# def buy_top_5_roe(df):\n",
    "#     \"\"\"\n",
    "#     Given a DataFrame of ROE values for each quarter, select the top 5 symbols by ROE for each quarter.\n",
    "    \n",
    "#     Parameters:\n",
    "#         df (DataFrame): The DataFrame containing ROE values, indexed by date and with stock symbols as columns.\n",
    "        \n",
    "#     Returns:\n",
    "#         top_5_dict (dict): A dictionary with quarters as keys and lists of top 5 stock symbols as values.\n",
    "#     \"\"\"\n",
    "#     # Initialize an empty dictionary to store the top 5 stocks for each quarter\n",
    "#     top_5_dict = {}\n",
    "    \n",
    "#     # Loop through each quarter in the DataFrame index\n",
    "#     for quarter in df.index.to_list():\n",
    "#         quarter = str(quarter)\n",
    "#         # Select the data for that quarter\n",
    "#         quarter_data = df.loc[quarter]\n",
    "        \n",
    "#         # Sort the data in descending order to get stocks with highest ROE first\n",
    "#         sorted_data = quarter_data.sort_values(ascending=False)\n",
    "        \n",
    "#         # Select the top 5 stock symbols\n",
    "#         top_5_stocks = sorted_data.head(5).index.tolist()\n",
    "        \n",
    "#         # Store the top 5 stocks in the dictionary\n",
    "#         top_5_dict[quarter] = top_5_stocks\n",
    "    \n",
    "#     return top_5_dict\n",
    "\n",
    "# def quarter_to_start_date(quarter):\n",
    "#     \"\"\"\n",
    "#     Convert a quarter string 'YYYY-QX' to the starting date of that quarter 'YYYY-MM-DD'.\n",
    "#     \"\"\"\n",
    "#     year, qtr = quarter.split('-Q')\n",
    "#     start_month = {'1': ['01','01'], '2': ['04','01'], '3': ['07','01'], '4': ['10','01']}\n",
    "#     if qtr in start_month:\n",
    "#         return get_work_day(int(year), int(start_month[qtr][0]),int(start_month[qtr][1]) )\n",
    "#     else:\n",
    "#         raise ValueError(\"Invalid quarter format\")\n",
    "\n",
    "\n",
    "\n",
    "# def quarter_to_end_date(quarter):\n",
    "#     \"\"\"\n",
    "#     Convert a quarter string 'YYYY-QX' to the ending date of that quarter 'YYYY-MM-DD'.\n",
    "#     \"\"\"\n",
    "#     year, qtr = quarter.split('-Q')\n",
    "#     end_month = {'1': ['03','31'], '2': ['06','30'], '3': ['09','30'], '4': ['12','31']}\n",
    "#     if qtr in end_month:\n",
    "#         return get_work_day(int(year), int(end_month[qtr][0]),int(end_month[qtr][1]) )\n",
    "#     else:\n",
    "#         raise ValueError(\"Invalid quarter format\")\n",
    "\n",
    "# def calculate_profit(price_data, roe_data):    \n",
    "#     profits = []\n",
    "#     quarters = []\n",
    "#     previous_quarter_stocks = []\n",
    "#     previous_end_date =None\n",
    "#     top_5_roe_dict = buy_top_5_roe(roe_data)\n",
    "    \n",
    "    \n",
    "#     for quarter in top_5_roe_dict.keys():\n",
    "#         current_quarter_stocks = top_5_roe_dict[quarter]\n",
    "#         profit = 0\n",
    "#         # Convert quarter to actual date\n",
    "#         if previous_end_date is None:\n",
    "#             start_date = quarter_to_start_date(quarter)\n",
    "#         else:\n",
    "#             start_date = previous_end_date\n",
    "\n",
    "#         end_date = quarter_to_end_date(quarter)\n",
    "\n",
    "\n",
    "#         # Calculate profit for stocks held from previous quarter\n",
    "#         for stock in previous_quarter_stocks:\n",
    "#             if stock in price_data:\n",
    "#                 print(start_date)\n",
    "#                 start_price = price_data.at[start_date, stock]\n",
    "#                 end_price = price_data.at[end_date, stock]\n",
    "#                 profit += end_price - start_price\n",
    "        \n",
    "#         # Update for the next iteration\n",
    "#         previous_end_date = end_date\n",
    "#         previous_quarter_stocks = current_quarter_stocks\n",
    "#         #print(profit)\n",
    "#         profits.append(profit)\n",
    "#         quarters.append(quarter)\n",
    "\n",
    "#     result = pd.Series(profits, index=quarters)\n",
    "#     return result\n",
    "\n",
    "#     # Now 'profits' contains the profit for each quarter.\n",
    "# result = calculate_profit(price_data=price_df, roe_data=cleaned_roe)\n",
    "\n",
    "\n",
    "# result"
   ]
  },
  {
   "cell_type": "code",
   "execution_count": 31,
   "metadata": {},
   "outputs": [
    {
     "data": {
      "text/plain": [
       "2013-Q1    [[[[[...], [...], [...], [...], [...], [...], ...\n",
       "2013-Q2    [[[[[...], [...], [...], [...], [...], [...], ...\n",
       "2013-Q3    [[[[[...], [...], [...], [...], [...], [...], ...\n",
       "2013-Q4    [[[[[...], [...], [...], [...], [...], [...], ...\n",
       "2014-Q1    [[[[[...], [...], [...], [...], [...], [...], ...\n",
       "2014-Q2    [[[[[...], [...], [...], [...], [...], [...], ...\n",
       "2014-Q3    [[[[[...], [...], [...], [...], [...], [...], ...\n",
       "2014-Q4    [[[[[...], [...], [...], [...], [...], [...], ...\n",
       "2015-Q1    [[[[[...], [...], [...], [...], [...], [...], ...\n",
       "2015-Q2    [[[[[...], [...], [...], [...], [...], [...], ...\n",
       "2015-Q3    [[[[[...], [...], [...], [...], [...], [...], ...\n",
       "2015-Q4    [[[[[...], [...], [...], [...], [...], [...], ...\n",
       "2016-Q1    [[[[[...], [...], [...], [...], [...], [...], ...\n",
       "2016-Q2    [[[[[...], [...], [...], [...], [...], [...], ...\n",
       "2016-Q3    [[[[[...], [...], [...], [...], [...], [...], ...\n",
       "2016-Q4    [[[[[...], [...], [...], [...], [...], [...], ...\n",
       "2017-Q1    [[[[[...], [...], [...], [...], [...], [...], ...\n",
       "2017-Q2    [[[[[...], [...], [...], [...], [...], [...], ...\n",
       "2017-Q3    [[[[[...], [...], [...], [...], [...], [...], ...\n",
       "2017-Q4    [[[[[...], [...], [...], [...], [...], [...], ...\n",
       "2018-Q1    [[[[[...], [...], [...], [...], [...], [...], ...\n",
       "2018-Q2    [[[[[...], [...], [...], [...], [...], [...], ...\n",
       "2018-Q3    [[[[[...], [...], [...], [...], [...], [...], ...\n",
       "2018-Q4    [[[[[...], [...], [...], [...], [...], [...], ...\n",
       "2019-Q1    [[[[[...], [...], [...], [...], [...], [...], ...\n",
       "2019-Q2    [[[[[...], [...], [...], [...], [...], [...], ...\n",
       "2019-Q3    [[[[[...], [...], [...], [...], [...], [...], ...\n",
       "2019-Q4    [[[[[...], [...], [...], [...], [...], [...], ...\n",
       "2020-Q1    [[[[[...], [...], [...], [...], [...], [...], ...\n",
       "2020-Q2    [[[[[...], [...], [...], [...], [...], [...], ...\n",
       "2020-Q3    [[[[[...], [...], [...], [...], [...], [...], ...\n",
       "dtype: object"
      ]
     },
     "execution_count": 31,
     "metadata": {},
     "output_type": "execute_result"
    }
   ],
   "source": [
    "result"
   ]
  },
  {
   "cell_type": "code",
   "execution_count": null,
   "metadata": {},
   "outputs": [],
   "source": []
  },
  {
   "cell_type": "code",
   "execution_count": null,
   "metadata": {},
   "outputs": [],
   "source": []
  },
  {
   "cell_type": "code",
   "execution_count": 55,
   "metadata": {},
   "outputs": [
    {
     "data": {
      "text/plain": [
       "2013-Q1      0.000000\n",
       "2013-Q2     33.080000\n",
       "2013-Q3     -0.668225\n",
       "2013-Q4     -2.640358\n",
       "2014-Q1    -13.603273\n",
       "2014-Q2     10.010000\n",
       "2014-Q3      2.935183\n",
       "2014-Q4      4.038857\n",
       "2015-Q1     15.477856\n",
       "2015-Q2     -3.424075\n",
       "2015-Q3     -3.362945\n",
       "2015-Q4    153.392854\n",
       "2016-Q1      4.558599\n",
       "2016-Q2    -86.793033\n",
       "2016-Q3     10.859892\n",
       "2016-Q4    -95.082434\n",
       "2017-Q1     16.811064\n",
       "2017-Q2     -7.050589\n",
       "2017-Q3     21.015505\n",
       "2017-Q4     14.546454\n",
       "2018-Q1     33.018740\n",
       "2018-Q2   -114.976595\n",
       "2018-Q3    -26.650427\n",
       "2018-Q4    -89.016835\n",
       "2019-Q1     31.739605\n",
       "2019-Q2    -23.030384\n",
       "2019-Q3     20.832125\n",
       "2019-Q4      0.679181\n",
       "2020-Q1    -28.235351\n",
       "2020-Q2    935.410016\n",
       "2020-Q3      6.384095\n",
       "dtype: float64"
      ]
     },
     "execution_count": 55,
     "metadata": {},
     "output_type": "execute_result"
    }
   ],
   "source": [
    "import pandas as pd\n",
    "import datetime\n",
    "import numpy as np\n",
    "def fill_missing_dates(df):\n",
    "    \"\"\"\n",
    "    Fill missing dates in a DataFrame with the last known data point.\n",
    "    \n",
    "    Parameters:\n",
    "        df (pd.DataFrame): DataFrame with DateTimeIndex and financial data.\n",
    "        \n",
    "    Returns:\n",
    "        pd.DataFrame: DataFrame with no missing dates and forward-filled data.\n",
    "    \"\"\"\n",
    "    # Ensure the DataFrame is sorted by date\n",
    "    df = df.sort_index()\n",
    "    \n",
    "    # Create a new index that fills in any missing dates\n",
    "    all_dates = pd.date_range(start=df.index.min(), end=df.index.max(), freq='D')\n",
    "    \n",
    "    # Reindex the DataFrame with the new index, forward-filling missing data\n",
    "    df_filled = df.reindex(all_dates, method='ffill')\n",
    "    \n",
    "    #fill the nan\n",
    "    df_filled.fillna(method='ffill', inplace=True)\n",
    "    return df_filled\n",
    "\n",
    "# Ensure the date of the revelation of statements is a workday\n",
    "def get_work_day(y, m, d):\n",
    "    newInfo_day = datetime.datetime(y, m, d)\n",
    "    if newInfo_day.weekday() == 5:  # Saturday\n",
    "        newInfo_day += datetime.timedelta(days=2)\n",
    "    elif newInfo_day.weekday() == 6:  # Sunday\n",
    "        newInfo_day += datetime.timedelta(days=1)\n",
    "    return newInfo_day\n",
    "\n",
    "# Buy top 5 stocks based on ROE\n",
    "def buy_top_5_roe(df):\n",
    "    top_5_dict = {}\n",
    "    for quarter in df.index:\n",
    "        # Sort the data to get stocks with highest ROE first\n",
    "        sorted_data = df.loc[quarter].sort_values(ascending=False)\n",
    "        top_5_stocks = sorted_data.head(5).index.tolist()\n",
    "        top_5_dict[quarter] = top_5_stocks\n",
    "    return top_5_dict\n",
    "\n",
    "# Convert quarter to start date\n",
    "def quarter_to_start_date(quarter):\n",
    "    year, qtr = quarter.split('-Q')\n",
    "    start_month = {'1': '01', '2': '04', '3': '07', '4': '10'}\n",
    "    if qtr in start_month:\n",
    "        return get_work_day(int(year), int(start_month[qtr]), 1)\n",
    "    else:\n",
    "        raise ValueError(\"Invalid quarter format\")\n",
    "\n",
    "# Convert quarter to end date\n",
    "def quarter_to_end_date(quarter):\n",
    "    year, qtr = quarter.split('-Q')\n",
    "    end_month = {'1': '03', '2': '06', '3': '09', '4': '12'}\n",
    "    end_day = {'1': '31', '2': '30', '3': '30', '4': '31'}\n",
    "    if qtr in end_month:\n",
    "        return get_work_day(int(year), int(end_month[qtr]), int(end_day[qtr]))\n",
    "    else:\n",
    "        raise ValueError(\"Invalid quarter format\")\n",
    "\n",
    "# Calculate profit based on ROE and stock prices\n",
    "def calculate_profit(price_data, roe_data):    \n",
    "    profits = []\n",
    "    quarters = []\n",
    "    previous_quarter_stocks = []\n",
    "    previous_end_date = None\n",
    "    top_5_roe_dict = buy_top_5_roe(roe_data)\n",
    "    \n",
    "    for quarter in top_5_roe_dict:\n",
    "        current_quarter_stocks = top_5_roe_dict[quarter]\n",
    "        profit = 0\n",
    "        start_date = quarter_to_start_date(quarter) if previous_end_date is None else previous_end_date\n",
    "        end_date = quarter_to_end_date(quarter)\n",
    "\n",
    "        for stock in previous_quarter_stocks:\n",
    "            if stock in price_data.columns:\n",
    "                start_price = price_data.at[start_date, stock]\n",
    "                end_price = price_data.at[end_date, stock]\n",
    "                profit += end_price - start_price\n",
    "                if end_price == np.nan or start_price == np.nan:\n",
    "                    print(f'stock: {stock}')\n",
    "                    print(f'start_price : {start_price}')\n",
    "                    print(f'end_price : {end_price}')\n",
    "        \n",
    "        previous_end_date = end_date\n",
    "        previous_quarter_stocks = current_quarter_stocks\n",
    "        profits.append(profit)\n",
    "        quarters.append(quarter)\n",
    "\n",
    "    return pd.Series(profits, index=quarters)\n",
    "\n",
    "# Assume 'price_df' and 'cleaned_roe' are defined elsewhere in your code\n",
    "# result = calculate_profit(price_data=price_df, roe_data=cleaned_roe)\n",
    "# print(result)\n",
    "filled_price_df = fill_missing_dates(price_df)\n",
    "result = calculate_profit(filled_price_df, cleaned_roe)\n",
    "result\n"
   ]
  },
  {
   "cell_type": "code",
   "execution_count": 59,
   "metadata": {},
   "outputs": [
    {
     "data": {
      "text/plain": [
       "<Axes: >"
      ]
     },
     "execution_count": 59,
     "metadata": {},
     "output_type": "execute_result"
    },
    {
     "data": {
      "image/png": "[encoded data removed]",
      "text/plain": [
       "<Figure size 640x480 with 1 Axes>"
      ]
     },
     "metadata": {},
     "output_type": "display_data"
    }
   ],
   "source": [
    "result.cumsum().plot()"
   ]
  },
  {
   "cell_type": "code",
   "execution_count": 57,
   "metadata": {},
   "outputs": [
    {
     "ename": "AttributeError",
     "evalue": "'numpy.float64' object has no attribute 'plot'",
     "output_type": "error",
     "traceback": [
      "\u001b[0;31m---------------------------------------------------------------------------\u001b[0m",
      "\u001b[0;31mAttributeError\u001b[0m                            Traceback (most recent call last)",
      "\u001b[1;32m/Users/max/Desktop/python_codes/trading_bot/ROE_filter.ipynb Cell 17\u001b[0m line \u001b[0;36m1\n\u001b[0;32m----> <a href='vscode-notebook-cell:/Users/max/Desktop/python_codes/trading_bot/ROE_filter.ipynb#X56sZmlsZQ%3D%3D?line=0'>1</a>\u001b[0m result\u001b[39m.\u001b[39;49msum()\u001b[39m.\u001b[39;49mplot()\n",
      "\u001b[0;31mAttributeError\u001b[0m: 'numpy.float64' object has no attribute 'plot'"
     ]
    }
   ],
   "source": []
  },
  {
   "cell_type": "code",
   "execution_count": 53,
   "metadata": {},
   "outputs": [
    {
     "data": {
      "text/plain": [
       "2013-Q1      0.000000\n",
       "2013-Q2     33.080000\n",
       "2013-Q3     -0.668225\n",
       "2013-Q4     -2.640358\n",
       "2014-Q1    -13.603273\n",
       "2014-Q2     10.010000\n",
       "2014-Q3      2.935183\n",
       "2014-Q4      4.038857\n",
       "2015-Q1           NaN\n",
       "2015-Q2     -3.424075\n",
       "2015-Q3     -3.362945\n",
       "2015-Q4    153.392854\n",
       "2016-Q1      4.558599\n",
       "2016-Q2    -86.793033\n",
       "2016-Q3     10.859892\n",
       "2016-Q4    -95.082434\n",
       "2017-Q1     16.811064\n",
       "2017-Q2     -7.050589\n",
       "2017-Q3     21.015505\n",
       "2017-Q4           NaN\n",
       "2018-Q1     33.018740\n",
       "2018-Q2   -114.976595\n",
       "2018-Q3           NaN\n",
       "2018-Q4    -89.016835\n",
       "2019-Q1           NaN\n",
       "2019-Q2    -23.030384\n",
       "2019-Q3     20.832125\n",
       "2019-Q4           NaN\n",
       "2020-Q1    -28.235351\n",
       "2020-Q2    935.410016\n",
       "2020-Q3           NaN\n",
       "dtype: float64"
      ]
     },
     "execution_count": 53,
     "metadata": {},
     "output_type": "execute_result"
    }
   ],
   "source": [
    "result"
   ]
  },
  {
   "cell_type": "code",
   "execution_count": 11,
   "metadata": {},
   "outputs": [
    {
     "data": {
      "text/plain": [
       "['2013', '1']"
      ]
     },
     "execution_count": 11,
     "metadata": {},
     "output_type": "execute_result"
    }
   ],
   "source": [
    "a = '2013Q1'\n",
    "a.split('Q')"
   ]
  },
  {
   "cell_type": "code",
   "execution_count": 17,
   "metadata": {},
   "outputs": [
    {
     "name": "stdout",
     "output_type": "stream",
     "text": [
      "2013\n",
      "2013\n",
      "2013\n",
      "2013\n",
      "2014\n",
      "2014\n",
      "2014\n",
      "2014\n",
      "2015\n",
      "2015\n",
      "2015\n",
      "2015\n",
      "2016\n",
      "2016\n",
      "2016\n",
      "2016\n",
      "2017\n",
      "2017\n",
      "2017\n",
      "2017\n",
      "2018\n",
      "2018\n",
      "2018\n",
      "2018\n",
      "2019\n",
      "2019\n",
      "2019\n",
      "2019\n",
      "2020\n",
      "2020\n",
      "2020\n"
     ]
    }
   ],
   "source": [
    "for i in a:\n",
    "    print(i[:4])"
   ]
  }
 ],
 "metadata": {
  "kernelspec": {
   "display_name": "Python 3",
   "language": "python",
   "name": "python3"
  },
  "language_info": {
   "codemirror_mode": {
    "name": "ipython",
    "version": 3
   },
   "file_extension": ".py",
   "mimetype": "text/x-python",
   "name": "python",
   "nbconvert_exporter": "python",
   "pygments_lexer": "ipython3",
   "version": "3.11.5"
  },
  "orig_nbformat": 4
 },
 "nbformat": 4,
 "nbformat_minor": 2
}
