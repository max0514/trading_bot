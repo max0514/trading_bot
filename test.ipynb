{
 "cells": [
  {
   "cell_type": "code",
   "execution_count": 8,
   "metadata": {},
   "outputs": [
    {
     "name": "stdout",
     "output_type": "stream",
     "text": [
      "嘉明 total score= 205\n",
      "小美 total score= 269\n",
      "阿雄 total score= 254\n"
     ]
    }
   ],
   "source": [
    "name = ['嘉明','小美','阿雄']\n",
    "score_2D = [[100,20,85],[95,99,75],[89,73,92]]\n",
    "for i in range(3):\n",
    "    num=0\n",
    "    for j in range(3):\n",
    "        num = num+ score_2D[i][j]\n",
    "    print(f'{name[i]} total score= {num}')"
   ]
  },
  {
   "cell_type": "code",
   "execution_count": 9,
   "metadata": {},
   "outputs": [
    {
     "name": "stdout",
     "output_type": "stream",
     "text": [
      "6\n",
      "3628800\n",
      "815915283247897734345611269596115894272000000000\n"
     ]
    }
   ],
   "source": [
    "def factorial(n):\n",
    "    if n <= 1:\n",
    "        return 1\n",
    "    else:\n",
    "        return n* factorial(n-1)\n",
    "print(factorial(3))\n",
    "print(factorial(10))\n",
    "print(factorial(40))"
   ]
  },
  {
   "cell_type": "code",
   "execution_count": 10,
   "metadata": {},
   "outputs": [
    {
     "name": "stdout",
     "output_type": "stream",
     "text": [
      "6\n"
     ]
    }
   ],
   "source": [
    "n=3\n",
    "product = 1\n",
    "for i in range(n):\n",
    "    product = (i+1) *product\n",
    "print(product)"
   ]
  },
  {
   "cell_type": "code",
   "execution_count": 1,
   "metadata": {},
   "outputs": [
    {
     "name": "stdout",
     "output_type": "stream",
     "text": [
      "129129938167664848157333145589394151932880352885953011\n"
     ]
    }
   ],
   "source": [
    "print(11**51)"
   ]
  },
  {
   "cell_type": "code",
   "execution_count": 10,
   "metadata": {},
   "outputs": [
    {
     "name": "stdout",
     "output_type": "stream",
     "text": [
      "46620\n"
     ]
    }
   ],
   "source": [
    "sum = 0\n",
    "for i in range(1,7):\n",
    "        for j in range(1,7):\n",
    "            if j != i:\n",
    "        \n",
    "                for k in range(1,7):\n",
    "                    if k != j and k!=i:\n",
    "                        number = i*100 + j *10 + k\n",
    "                        sum += number\n",
    "print(sum)\n"
   ]
  },
  {
   "cell_type": "code",
   "execution_count": 9,
   "metadata": {},
   "outputs": [
    {
     "name": "stdout",
     "output_type": "stream",
     "text": [
      "46620\n"
     ]
    }
   ],
   "source": [
    "total_sum = 0\n",
    "for i in range(1, 7):\n",
    "    for j in range(1, 7):\n",
    "        if j != i:\n",
    "            for k in range(1, 7):\n",
    "                if k != j and k != i:\n",
    "                    number = i * 100 + j * 10 + k\n",
    "                    total_sum += number\n",
    "\n",
    "print(total_sum)"
   ]
  },
  {
   "cell_type": "code",
   "execution_count": 13,
   "metadata": {},
   "outputs": [
    {
     "name": "stdout",
     "output_type": "stream",
     "text": [
      "0x2ff6830b0c0c7b62\n"
     ]
    }
   ],
   "source": [
    "decimal_number = 3456093847523457890\n",
    "hexadecimal_number = hex(decimal_number)\n",
    "print(hexadecimal_number)\n"
   ]
  },
  {
   "cell_type": "code",
   "execution_count": 18,
   "metadata": {},
   "outputs": [
    {
     "name": "stdout",
     "output_type": "stream",
     "text": [
      "ThisisAsimpletestForsTringreEverse\n"
     ]
    }
   ],
   "source": [
    "string = 'esrevEergnirTsroFtsetelpmisAsisihT'\n",
    "reversed_string = ''\n",
    "for i in range(len(string)):\n",
    "    reversed_string+=string[-i-1]\n",
    "print(reversed_string)"
   ]
  },
  {
   "cell_type": "code",
   "execution_count": null,
   "metadata": {},
   "outputs": [],
   "source": []
  }
 ],
 "metadata": {
  "kernelspec": {
   "display_name": "Python 3",
   "language": "python",
   "name": "python3"
  },
  "language_info": {
   "codemirror_mode": {
    "name": "ipython",
    "version": 3
   },
   "file_extension": ".py",
   "mimetype": "text/x-python",
   "name": "python",
   "nbconvert_exporter": "python",
   "pygments_lexer": "ipython3",
   "version": "3.9.6"
  },
  "orig_nbformat": 4
 },
 "nbformat": 4,
 "nbformat_minor": 2
}
