{
 "cells": [
  {
   "cell_type": "code",
   "execution_count": 5,
   "metadata": {},
   "outputs": [],
   "source": [
    "import pandas as pd\n",
    "import matplotlib.pyplot as plt\n",
    "from mongo import Mongo\n",
    "import plotly.express as px\n",
    "\n",
    "price_repo = Mongo(db='trading_bot', collection='stock_price')\n",
    "month_revenue_repo = Mongo(db='trading_bot', collection='month_revenue')\n",
    "balance_sheet_repo = Mongo(db='trading_bot', collection='balance_sheet')\n",
    "income_sheet_repo = Mongo(db='trading_bot', collection='income_sheet')\n",
    "cash_flow_repo = Mongo(db='trading_bot', collection='cash_flow')\n",
    "\n",
    "price_data = price_repo.get_data_by_stock_id('2330')\n",
    "# month_revenue_data = month_revenue_repo.get_data_by_stock_id('1101')\n",
    "# income_sheet = income_sheet_repo.get_data_by_stock_id('1101')\n",
    "# balance_sheet = balance_sheet_repo.get_data_by_stock_id('1101')\n",
    "# cash_flow = cash_flow_repo.get_data_by_stock_id('1101')\n",
    "# all_price_data = price_repo.get_all_data()\n",
    "# all_month_revenue_data = month_revenue_repo.get_all_data()\n",
    "# all_income_sheet = income_sheet_repo.get_all_data()\n",
    "# all_balance_sheet = balance_sheet_repo.get_all_data()\n",
    "# all_cash_flow = cash_flow_repo.get_all_data()"
   ]
  },
  {
   "cell_type": "code",
   "execution_count": 6,
   "metadata": {},
   "outputs": [
    {
     "data": {
      "text/html": [
       "<div>\n",
       "<style scoped>\n",
       "    .dataframe tbody tr th:only-of-type {\n",
       "        vertical-align: middle;\n",
       "    }\n",
       "\n",
       "    .dataframe tbody tr th {\n",
       "        vertical-align: top;\n",
       "    }\n",
       "\n",
       "    .dataframe thead th {\n",
       "        text-align: right;\n",
       "    }\n",
       "</style>\n",
       "<table border=\"1\" class=\"dataframe\">\n",
       "  <thead>\n",
       "    <tr style=\"text-align: right;\">\n",
       "      <th></th>\n",
       "    </tr>\n",
       "  </thead>\n",
       "  <tbody>\n",
       "  </tbody>\n",
       "</table>\n",
       "</div>"
      ],
      "text/plain": [
       "Empty DataFrame\n",
       "Columns: []\n",
       "Index: []"
      ]
     },
     "execution_count": 6,
     "metadata": {},
     "output_type": "execute_result"
    }
   ],
   "source": [
    "price_data"
   ]
  },
  {
   "cell_type": "code",
   "execution_count": null,
   "metadata": {},
   "outputs": [],
   "source": []
  }
 ],
 "metadata": {
  "kernelspec": {
   "display_name": "Python 3",
   "language": "python",
   "name": "python3"
  },
  "language_info": {
   "codemirror_mode": {
    "name": "ipython",
    "version": 3
   },
   "file_extension": ".py",
   "mimetype": "text/x-python",
   "name": "python",
   "nbconvert_exporter": "python",
   "pygments_lexer": "ipython3",
   "version": "3.11.5"
  },
  "orig_nbformat": 4
 },
 "nbformat": 4,
 "nbformat_minor": 2
}
